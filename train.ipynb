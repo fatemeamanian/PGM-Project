{
 "cells": [
  {
   "cell_type": "code",
   "execution_count": 25,
   "metadata": {},
   "outputs": [],
   "source": [
    "import ast \n",
    "import numpy as np\n",
    "import pandas as pd\n",
    "\n",
    "from sklearn.svm import SVC\n",
    "from sklearn.naive_bayes import GaussianNB\n",
    "from sklearn.naive_bayes import BernoulliNB\n",
    "from sklearn.naive_bayes import CategoricalNB\n",
    "from sklearn.naive_bayes import MultinomialNB\n",
    "from sklearn.naive_bayes import ComplementNB\n",
    "\n",
    "from sklearn.metrics import recall_score, accuracy_score, precision_score, f1_score, confusion_matrix"
   ]
  },
  {
   "cell_type": "code",
   "execution_count": 3,
   "metadata": {},
   "outputs": [
    {
     "name": "stdout",
     "output_type": "stream",
     "text": [
      "\u001b[0m\u001b[01;32madult.data\u001b[0m*  \u001b[01;32madult.names\u001b[0m*  \u001b[01;32madult.test\u001b[0m*  \u001b[01;32mtest.csv\u001b[0m*  \u001b[01;32mtrain.csv\u001b[0m*\r\n"
     ]
    }
   ],
   "source": [
    "%ls data/"
   ]
  },
  {
   "cell_type": "code",
   "execution_count": 6,
   "metadata": {},
   "outputs": [],
   "source": [
    "train = pd.read_csv('data/train.csv')\n",
    "test = pd.read_csv('data/test.csv')\n",
    "\n",
    "x = train.iloc[:,:-2].to_numpy()\n",
    "y = train.iloc[:,-1].to_numpy()\n",
    "\n",
    "x_test = test.iloc[:,:-2].to_numpy()\n",
    "y_test = test.iloc[:,-1].to_numpy()"
   ]
  },
  {
   "cell_type": "markdown",
   "metadata": {},
   "source": [
    "# Support Vector Machine"
   ]
  },
  {
   "cell_type": "code",
   "execution_count": 13,
   "metadata": {},
   "outputs": [
    {
     "name": "stdout",
     "output_type": "stream",
     "text": [
      "accuracy score:   \t 0.8228610036238561 \n",
      "precision score:\t 0.4209568382735309 \n",
      "recall score:   \t 0.711335676625659 \n",
      "f1 score:       \t 0.5289121202221495\n",
      "confusion matrix:\n",
      " [[11778  2227]\n",
      " [  657  1619]]\n"
     ]
    }
   ],
   "source": [
    "clf = SVC(kernel='rbf')\n",
    "clf.fit(x, y)\n",
    "y_pred = clf.predict(x_test)\n",
    "print('accuracy score:   \\t', accuracy_score(y_pred, y_test),\n",
    "      '\\nprecision score:\\t', precision_score(y_pred, y_test),\n",
    "      '\\nrecall score:   \\t', recall_score(y_pred, y_test),\n",
    "      '\\nf1 score:       \\t', f1_score(y_pred, y_test))\n",
    "print('confusion matrix:\\n',confusion_matrix(y_pred, y_test))"
   ]
  },
  {
   "cell_type": "code",
   "execution_count": 12,
   "metadata": {},
   "outputs": [
    {
     "name": "stdout",
     "output_type": "stream",
     "text": [
      "accuracy score:\t 0.8032061912658928 \n",
      "precision score:\t 0.31357254290171604 \n",
      "recall score:\t 0.6813559322033899 \n",
      "f1 score:\t 0.4294871794871794\n",
      "confusion matrix:\n",
      " [[11871  2640]\n",
      " [  564  1206]]\n"
     ]
    }
   ],
   "source": [
    "clf = SVC(kernel='linear')\n",
    "clf.fit(x, y)\n",
    "y_pred = clf.predict(x_test)\n",
    "print('accuracy score:\\t', accuracy_score(y_pred, y_test),\n",
    "      '\\nprecision score:\\t', precision_score(y_pred, y_test),\n",
    "      '\\nrecall score:\\t', recall_score(y_pred, y_test),\n",
    "      '\\nf1 score:\\t', f1_score(y_pred, y_test))\n",
    "print('confusion matrix:\\n',confusion_matrix(y_pred, y_test))"
   ]
  },
  {
   "cell_type": "code",
   "execution_count": 14,
   "metadata": {},
   "outputs": [
    {
     "name": "stdout",
     "output_type": "stream",
     "text": [
      "accuracy score:\t 0.8223082120262883 \n",
      "precision score:\t 0.40977639105564223 \n",
      "recall score:\t 0.7166894042746703 \n",
      "f1 score:\t 0.5214226633581472\n",
      "confusion matrix:\n",
      " [[11812  2270]\n",
      " [  623  1576]]\n"
     ]
    }
   ],
   "source": [
    "clf = SVC(kernel='poly')\n",
    "clf.fit(x, y)\n",
    "y_pred = clf.predict(x_test)\n",
    "print('accuracy score:\\t', accuracy_score(y_pred, y_test),\n",
    "      '\\nprecision score:\\t', precision_score(y_pred, y_test),\n",
    "      '\\nrecall score:\\t', recall_score(y_pred, y_test),\n",
    "      '\\nf1 score:\\t', f1_score(y_pred, y_test))\n",
    "print('confusion matrix:\\n',confusion_matrix(y_pred, y_test))"
   ]
  },
  {
   "cell_type": "markdown",
   "metadata": {},
   "source": [
    "# Gaussian Naive Bayes"
   ]
  },
  {
   "cell_type": "code",
   "execution_count": 15,
   "metadata": {},
   "outputs": [
    {
     "name": "stdout",
     "output_type": "stream",
     "text": [
      "accuracy score:\t 0.8223082120262883 \n",
      "precision score:\t 0.40977639105564223 \n",
      "recall score:\t 0.7166894042746703 \n",
      "f1 score:\t 0.5214226633581472\n",
      "confusion matrix:\n",
      " [[11812  2270]\n",
      " [  623  1576]]\n"
     ]
    }
   ],
   "source": [
    "clf = GaussianNB()\n",
    "clf.fit(x, y)\n",
    "ry_pred = clf.predict(x_test)\n",
    "print('accuracy score:\\t', accuracy_score(y_pred, y_test),\n",
    "      '\\nprecision score:\\t', precision_score(y_pred, y_test),\n",
    "      '\\nrecall score:\\t', recall_score(y_pred, y_test),\n",
    "      '\\nf1 score:\\t', f1_score(y_pred, y_test))\n",
    "print('confusion matrix:\\n',confusion_matrix(y_pred, y_test))"
   ]
  },
  {
   "cell_type": "markdown",
   "metadata": {},
   "source": [
    "# Bernoulli Naive Bayes"
   ]
  },
  {
   "cell_type": "code",
   "execution_count": 18,
   "metadata": {},
   "outputs": [
    {
     "name": "stdout",
     "output_type": "stream",
     "text": [
      "accuracy score:\t 0.7913518825624961 \n",
      "precision score:\t 0.608164326573063 \n",
      "recall score:\t 0.5530858358950106 \n",
      "f1 score:\t 0.5793188854489164\n",
      "confusion matrix:\n",
      " [[10545  1507]\n",
      " [ 1890  2339]]\n"
     ]
    }
   ],
   "source": [
    "clf = BernoulliNB()\n",
    "clf.fit(x, y)\n",
    "y_pred = clf.predict(x_test)\n",
    "print('accuracy score:\\t', accuracy_score(y_pred, y_test),\n",
    "      '\\nprecision score:\\t', precision_score(y_pred, y_test),\n",
    "      '\\nrecall score:\\t', recall_score(y_pred, y_test),\n",
    "      '\\nf1 score:\\t', f1_score(y_pred, y_test))\n",
    "print('confusion matrix:\\n',confusion_matrix(y_pred, y_test))"
   ]
  },
  {
   "cell_type": "markdown",
   "metadata": {},
   "source": [
    "# Categorical Naive Bayes"
   ]
  },
  {
   "cell_type": "code",
   "execution_count": 21,
   "metadata": {},
   "outputs": [
    {
     "name": "stdout",
     "output_type": "stream",
     "text": [
      "accuracy score:\t 0.8158589767213316 \n",
      "precision score:\t 0.7438897555902236 \n",
      "recall score:\t 0.586992203528929 \n",
      "f1 score:\t 0.6561926605504587\n",
      "confusion matrix:\n",
      " [[10422   985]\n",
      " [ 2013  2861]]\n"
     ]
    }
   ],
   "source": [
    "clf = CategoricalNB()\n",
    "clf.fit(x, y)\n",
    "y_pred = clf.predict(x_test)\n",
    "print('accuracy score:\\t', accuracy_score(y_pred, y_test),\n",
    "      '\\nprecision score:\\t', precision_score(y_pred, y_test),\n",
    "      '\\nrecall score:\\t', recall_score(y_pred, y_test),\n",
    "      '\\nf1 score:\\t', f1_score(y_pred, y_test))\n",
    "print('confusion matrix:\\n',confusion_matrix(y_pred, y_test))"
   ]
  },
  {
   "cell_type": "markdown",
   "metadata": {},
   "source": [
    "# Multinomial Naive Bayes"
   ]
  },
  {
   "cell_type": "code",
   "execution_count": 23,
   "metadata": {},
   "outputs": [
    {
     "name": "stdout",
     "output_type": "stream",
     "text": [
      "accuracy score:\t 0.7742767643265156 \n",
      "precision score:\t 0.5390015600624025 \n",
      "recall score:\t 0.5215094339622641 \n",
      "f1 score:\t 0.5301112389719984\n",
      "confusion matrix:\n",
      " [[10533  1773]\n",
      " [ 1902  2073]]\n"
     ]
    }
   ],
   "source": [
    "clf = MultinomialNB()\n",
    "clf.fit(x, y)\n",
    "y_pred = clf.predict(x_test)\n",
    "print('accuracy score:\\t', accuracy_score(y_pred, y_test),\n",
    "      '\\nprecision score:\\t', precision_score(y_pred, y_test),\n",
    "      '\\nrecall score:\\t', recall_score(y_pred, y_test),\n",
    "      '\\nf1 score:\\t', f1_score(y_pred, y_test))\n",
    "print('confusion matrix:\\n',confusion_matrix(y_pred, y_test))"
   ]
  },
  {
   "cell_type": "markdown",
   "metadata": {},
   "source": [
    "# Complement Naive Bayes"
   ]
  },
  {
   "cell_type": "code",
   "execution_count": 26,
   "metadata": {},
   "outputs": [
    {
     "name": "stdout",
     "output_type": "stream",
     "text": [
      "accuracy score:\t 0.6604016952275659 \n",
      "precision score:\t 0.8244929797191888 \n",
      "recall score:\t 0.39514018691588787 \n",
      "f1 score:\t 0.5342431134698004\n",
      "confusion matrix:\n",
      " [[7581  675]\n",
      " [4854 3171]]\n"
     ]
    }
   ],
   "source": [
    "clf = ComplementNB()\n",
    "clf.fit(x, y)\n",
    "y_pred = clf.predict(x_test)\n",
    "print('accuracy score:\\t', accuracy_score(y_pred, y_test),\n",
    "      '\\nprecision score:\\t', precision_score(y_pred, y_test),\n",
    "      '\\nrecall score:\\t', recall_score(y_pred, y_test),\n",
    "      '\\nf1 score:\\t', f1_score(y_pred, y_test))\n",
    "print('confusion matrix:\\n',confusion_matrix(y_pred, y_test))"
   ]
  }
 ],
 "metadata": {
  "kernelspec": {
   "display_name": "aml_env",
   "language": "python",
   "name": "aml_env"
  },
  "language_info": {
   "codemirror_mode": {
    "name": "ipython",
    "version": 3
   },
   "file_extension": ".py",
   "mimetype": "text/x-python",
   "name": "python",
   "nbconvert_exporter": "python",
   "pygments_lexer": "ipython3",
   "version": "3.6.9"
  }
 },
 "nbformat": 4,
 "nbformat_minor": 4
}
